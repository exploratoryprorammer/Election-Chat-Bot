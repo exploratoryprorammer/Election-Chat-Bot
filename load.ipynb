{
 "cells": [
  {
   "cell_type": "code",
   "execution_count": 2,
   "metadata": {},
   "outputs": [],
   "source": [
    "from dotenv import load_dotenv;\n",
    "load_dotenv()\n",
    "from pinecone import Pinecone, ServerlessSpec\n",
    "from openai import OpenAI\n",
    "import os\n",
    "import json"
   ]
  },
  {
   "cell_type": "code",
   "execution_count": 3,
   "metadata": {},
   "outputs": [],
   "source": [
    "pc = Pinecone(api_key=os.getenv(\"PINECONE_API_KEY\"))"
   ]
  },
  {
   "cell_type": "code",
   "execution_count": 4,
   "metadata": {},
   "outputs": [],
   "source": [
    "data = json.load(open(\"aseriods.json\"))"
   ]
  },
  {
   "cell_type": "code",
   "execution_count": 5,
   "metadata": {},
   "outputs": [],
   "source": [
    "processed_data = []\n",
    "client = OpenAI()"
   ]
  },
  {
   "cell_type": "code",
   "execution_count": 6,
   "metadata": {},
   "outputs": [],
   "source": [
    "for asteroid in data[\"near_earth_objects\"]:\n",
    "\n",
    "    response = client.embeddings.create(input=asteroid['name'], model=\"text-embedding-3-small\")\n",
    "    embedding = response.data[0].embedding\n",
    "    \n",
    "    processed_data.append({\n",
    "        \"values\": embedding,\n",
    "        \"id\": asteroid[\"id\"],\n",
    "        \"metadata\": {\n",
    "            \"name\": asteroid[\"name\"],\n",
    "            \"first_observation_date\": asteroid[\"first_observation_date\"],\n",
    "            \"last_observation_date\": asteroid[\"last_observation_date\"],\n",
    "            \"inclination\": asteroid[\"inclination\"],\n",
    "            \"equinox\": asteroid[\"equinox\"],\n",
    "            \"orbit_class\": asteroid[\"orbit_class\"][\"orbit_class_description\"],\n",
    "            \"close_approach_date\": asteroid[\"upcoming_approach\"][\"close_approach_date\"],\n",
    "            \"close_approach_time\": asteroid[\"upcoming_approach\"][\"close_approach_time\"],\n",
    "            \"relative_velocity_mph\": asteroid[\"upcoming_approach\"][\"relative_velocity\"][\"miles_per_hour\"],\n",
    "            \"miss_distance_miles\": asteroid[\"upcoming_approach\"][\"miss_distance\"][\"miles\"]\n",
    "        }\n",
    "    })\n",
    "\n"
   ]
  },
  {
   "cell_type": "code",
   "execution_count": 7,
   "metadata": {},
   "outputs": [],
   "source": [
    "index = pc.Index(\"nasaneo\")\n",
    "upsert_respone = index.upsert(\n",
    "    vectors=processed_data,\n",
    "    namespace=\"asteroid\",\n",
    ")\n"
   ]
  }
 ],
 "metadata": {
  "kernelspec": {
   "display_name": "neorag",
   "language": "python",
   "name": "python3"
  },
  "language_info": {
   "codemirror_mode": {
    "name": "ipython",
    "version": 3
   },
   "file_extension": ".py",
   "mimetype": "text/x-python",
   "name": "python",
   "nbconvert_exporter": "python",
   "pygments_lexer": "ipython3",
   "version": "3.10.14"
  }
 },
 "nbformat": 4,
 "nbformat_minor": 2
}
